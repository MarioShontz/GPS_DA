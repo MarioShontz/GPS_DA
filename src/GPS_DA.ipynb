{
 "cells": [
  {
   "cell_type": "markdown",
   "metadata": {},
   "source": [
    "# Data Assimilation with GPS Data\n",
    "\n",
    "This project demonstrates the Ensemble Kalman Filter (EnKF) using real GPS data procured from two phones measuring the location of the same thing (me driving my car around a parking lot). It is meant as a hands-on experience in overcoming each obstacle of real-world data assimilation, including asynchronous and irregularly-spaced observations that don't directly map to the timing of the state model, and obtaining a solid initial $\\mathbf{R}$ matrix. The second issue is determining the accuracy of the model - for my case, I was able to make an approximate \"true\" solution by mapping out my route using an online tool. \n",
    "\n",
    "<img src = \"../img/routes.png\" height = 300 width = 300/>"
   ]
  },
  {
   "cell_type": "markdown",
   "metadata": {},
   "source": [
    "## Plotting the data"
   ]
  },
  {
   "cell_type": "code",
   "execution_count": null,
   "metadata": {},
   "outputs": [],
   "source": [
    "import pandas as pd\n",
    "import matplotlib.pyplot as plt\n",
    "\n",
    "def plot_gps_data(file_path, data_format):\n",
    "    # Load data\n",
    "    data = pd.read_csv(file_path)\n",
    "    \n",
    "    # Check the data format and extract coordinates\n",
    "    if data_format == 'madds_format':\n",
    "        # Assuming 'lat' and 'long' columns for Maddison's phone data\n",
    "        latitudes = data['lat']\n",
    "        longitudes = data['long']\n",
    "    elif data_format == 'marios_format':\n",
    "        # Assuming 'latitude' and 'longitude' columns for Mario's phone data\n",
    "        latitudes = data['latitude']\n",
    "        longitudes = data['longitude']\n",
    "    else:\n",
    "        raise ValueError(\"Data format not recognized\")\n",
    "    \n",
    "    # Create a scatter plot\n",
    "    plt.figure(figsize=(10, 6))\n",
    "    plt.scatter(longitudes, latitudes, alpha=0.7, marker='o', s=20, label=f'Data from {data_format}')\n",
    "    plt.title(f'GPS Data Visualization for {data_format}')\n",
    "    plt.xlabel('Longitude')\n",
    "    plt.ylabel('Latitude')\n",
    "    plt.grid(True)\n",
    "    plt.legend()\n",
    "    plt.show()\n",
    "\n",
    "# Paths to the datasets\n",
    "madds_file_path = '/mnt/data/True_Run_maddisons_phone.csv'\n",
    "marios_file_path = '/mnt/data/true_run_marios_phone.csv'\n",
    "\n",
    "# Plotting each dataset\n",
    "plot_gps_data(madds_file_path, 'madds_format')\n",
    "plot_gps_data(marios_file_path, 'marios_format')\n"
   ]
  },
  {
   "cell_type": "markdown",
   "metadata": {},
   "source": [
    "## Interpolating the data with splines"
   ]
  },
  {
   "cell_type": "markdown",
   "metadata": {},
   "source": []
  }
 ],
 "metadata": {
  "kernelspec": {
   "display_name": "Python 3",
   "language": "python",
   "name": "python3"
  },
  "language_info": {
   "codemirror_mode": {
    "name": "ipython",
    "version": 3
   },
   "file_extension": ".py",
   "mimetype": "text/x-python",
   "name": "python",
   "nbconvert_exporter": "python",
   "pygments_lexer": "ipython3",
   "version": "3.11.9"
  }
 },
 "nbformat": 4,
 "nbformat_minor": 2
}
