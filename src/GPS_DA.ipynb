{
 "cells": [
  {
   "cell_type": "markdown",
   "metadata": {},
   "source": [
    "# Data Assimilation with GPS Data\n",
    "\n",
    "This project demonstrates the Ensemble Kalman Filter (EnKF) using real GPS data procured from two phones measuring the location of the same thing (me driving my car around a parking lot). It is meant as a hands-on experience in overcoming each obstacle of real-world data assimilation, including asynchronous and irregularly-spaced observations that don't directly map to the timing of the state model. The second issue is determining the accuracy of the model - for my case, I was able to make an approximate \"true\" solution by mapping out my route using a tool that generates a route using coordinates. \n",
    "\n",
    "<img src = \"../img/routes.png\" height = 300 width = 300/>"
   ]
  },
  {
   "cell_type": "markdown",
   "metadata": {},
   "source": []
  }
 ],
 "metadata": {
  "language_info": {
   "name": "python"
  }
 },
 "nbformat": 4,
 "nbformat_minor": 2
}
